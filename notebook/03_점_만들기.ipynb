{
 "cells": [
  {
   "cell_type": "markdown",
   "metadata": {},
   "source": [
    "# 들어가며\n",
    "\n",
    "이제 해야할 일은 각각의 집계구 폴리곤에 대해 그 내부에 연령대별 인구만큼 점을 만드는 것입니다. 그리고 그 점마다 어느 연령대에 속하는 점인지 알 수 있게끔 해줘야할 것입니다. \n",
    "\n",
    "우리가 이전 단계에서 만든 tract_all.geojson에는 연령대별 인구를 보여주는 column이 있습니다. in_age_001, in_age_002,...,in_age_021이 각각 5년 단위의 연령대별 인구를 나타내는 column입니다. ArcMap, QGIS, PostGIS에는 dataset의 한 column의 숫자만큼 해당 row의 polygon 내부의 임의의 위치에 point를 생성하는 명령이 있습니다. 그런데 우리는 여러 컬럼에 대해 이 작업을 해야하고 한번 작업을 할 때마다 새로 생성된 점들에 labeling을 해줘야합니다. 그렇지 않다면 나중에 어느 점이 어느 연령대의 점인지 알 수 없을테니까요. 그리고 우리는 최대한 command line에서 문제를 처리하고 싶습니다.\n",
    "\n",
    "## dot-density \n",
    "그래서 찾은 것이 [dot-density](https://github.com/anandthakker/dot-density)입니다. 이 툴은 node.js로 작성된 것인데 geojson을 받아들여서 한 컬럼에 지정된 숫자만큼 polygon 내부에 점을 생성시킨뒤 결과물을 geojson으로 내보냅니다. \n",
    "\n",
    "> cat someCensusData.geojson | dot-density --population POP10 --sampleRate 0.1\n",
    "\n",
    "이렇게 하면 한 센서스 데이터 geojson에서 POP10 컬럼에 있는 숫자에 대해 0.1의 비율로 점을 샘플링하는 것입니다. 우리의 데이터로 바꿔 쓰면,\n",
    "\n",
    "> cat tract_all.geojson | dot-density --population in_age_001 --sampleRate 1.0 > dot_001.geojson\n",
    "\n",
    "이렇게 하면 우리가 앞서 만든 tract_all.geojson을 읽어서 in_age_001 (0-4세)의 숫자만큼 점을 생성하고 결과물이 dot_001.geojson에 저장되는 것입니다. 이 명령을 001부터 021까지 반복한 다음에 결과물 geojson들을 합치면 되겠지요. 그런데! 그냥 합치면 안되고 각각의 점들이 어느 연령대를 나타내는지 label이 붙어 있어야할 것입니다. 그래서 저는 [dot-density를 살짝 수정](https://github.com/yonghah/dot-density)해서 command line argument로 value를 줄 수 있게 했습니다. 그리고 그 value가 geojson의 property가 되게 했습니다. \n",
    "\n",
    "> cat tract_all.geojson | dot-density --population in_age_004 --sampleRate 1.0 --value 4 > dot_004.geojson\n",
    "\n",
    "이렇게 하면 dot_004.geojson의 모든 점들은 4라는 값을 'value'라는 property에 대해 가지게 되어서 나중에 geojson을 합치더라도 어느 연령대의 점인지 구분할 수 있게 됩니다. 아래의 간단한 bash script를 이용하면 손쉽게 21개 컬럼에 대해 labeling된 point들을 얻을 수 있습니다. 1시간 정도 걸리는 작업이고 최종적으로 생성된 21개의 geojson은 6GB 정도 됩니다."
   ]
  },
  {
   "cell_type": "code",
   "execution_count": null,
   "metadata": {
    "collapsed": true
   },
   "outputs": [],
   "source": [
    "%%bash\n",
    "polygon=$( cat ../processed-data/tract_all.geojson )\n",
    "for ((i=1; i<=21; i++)); do\n",
    "\tnum=$(printf '%03d' $i)\n",
    "\tfield='in_age_'$num\n",
    "\techo $polygon | dot-density --population $field --sampleRate 1 --value $i > ../processed-data/partial/dot_$num.geojson\n",
    "done"
   ]
  },
  {
   "cell_type": "markdown",
   "metadata": {},
   "source": [
    "# 모두 합쳐서 dataframe 만들기\n",
    "\n",
    "이제 위의 과정에서 생성된 5천만개의 포인트들이 21개에 나눠 담겨져 있는 geojson들을 하나로 합치는 작업을 하겠습니다. 합치면서 좌표도 easting하고 northing으로 바꿀겁니다. "
   ]
  },
  {
   "cell_type": "code",
   "execution_count": 2,
   "metadata": {
    "collapsed": true
   },
   "outputs": [],
   "source": [
    "# 일단 library를 import합시다.\n",
    "import pandas as pd\n",
    "import geopandas as gpd\n",
    "from datashader.utils import lnglat_to_meters as webm"
   ]
  },
  {
   "cell_type": "markdown",
   "metadata": {},
   "source": [
    "아래의 함수는 geojson 파일을 Geopandas의 geodataframe으로 읽은 뒤, 좌표를 easting과 northing으로 변환하여 value (연령대)와 함께 반환합니다. 이 함수를 앞서의 21개 geojson에 대해 실행하고 합치면 되겠죠."
   ]
  },
  {
   "cell_type": "code",
   "execution_count": 3,
   "metadata": {
    "collapsed": false
   },
   "outputs": [],
   "source": [
    "def get_ds_df(gj_path):\n",
    "    df = gpd.read_file(gj_path)\n",
    "    df = df.assign(easting = lambda x: x.geometry.map(lambda p: webm(p.x, p.y)[0]))\n",
    "    df = df.assign(northing = lambda x: x.geometry.map(lambda p: webm(p.x, p.y)[1]))\n",
    "    df.value = df.value.astype('category')\n",
    "    return pd.DataFrame(df[['easting', 'northing', 'value']])"
   ]
  },
  {
   "cell_type": "markdown",
   "metadata": {},
   "source": [
    "이제 합칩니다. 시간이 조금 걸립니다."
   ]
  },
  {
   "cell_type": "code",
   "execution_count": 7,
   "metadata": {
    "collapsed": false
   },
   "outputs": [
    {
     "name": "stdout",
     "output_type": "stream",
     "text": [
      "CPU times: user 1h 20min 18s, sys: 8min 5s, total: 1h 28min 24s\n",
      "Wall time: 1h 30min 28s\n"
     ]
    }
   ],
   "source": [
    "%%time\n",
    "geojsons = list()\n",
    "for i in range(1,22):\n",
    "    gj = \"../processed-data/partial/\" + 'dot_{0:03d}.geojson'.format(i)\n",
    "    geojsons.append(get_ds_df(gj))"
   ]
  },
  {
   "cell_type": "markdown",
   "metadata": {
    "collapsed": true
   },
   "source": [
    "그러면 이제 이 geojson들로부터 읽어낸 df들을 하나로 이어주고 value 컬럼을 category로 취급하라고 알려줍니다. datashader에 필요합니다."
   ]
  },
  {
   "cell_type": "code",
   "execution_count": 8,
   "metadata": {
    "collapsed": false
   },
   "outputs": [
    {
     "data": {
      "text/html": [
       "<div>\n",
       "<table border=\"1\" class=\"dataframe\">\n",
       "  <thead>\n",
       "    <tr style=\"text-align: right;\">\n",
       "      <th></th>\n",
       "      <th>easting</th>\n",
       "      <th>northing</th>\n",
       "      <th>value</th>\n",
       "    </tr>\n",
       "  </thead>\n",
       "  <tbody>\n",
       "    <tr>\n",
       "      <th>0</th>\n",
       "      <td>1.412816e+07</td>\n",
       "      <td>4.184262e+06</td>\n",
       "      <td>1</td>\n",
       "    </tr>\n",
       "    <tr>\n",
       "      <th>1</th>\n",
       "      <td>1.412804e+07</td>\n",
       "      <td>4.183894e+06</td>\n",
       "      <td>1</td>\n",
       "    </tr>\n",
       "    <tr>\n",
       "      <th>2</th>\n",
       "      <td>1.412799e+07</td>\n",
       "      <td>4.183657e+06</td>\n",
       "      <td>1</td>\n",
       "    </tr>\n",
       "    <tr>\n",
       "      <th>3</th>\n",
       "      <td>1.412843e+07</td>\n",
       "      <td>4.184020e+06</td>\n",
       "      <td>1</td>\n",
       "    </tr>\n",
       "    <tr>\n",
       "      <th>4</th>\n",
       "      <td>1.412808e+07</td>\n",
       "      <td>4.184177e+06</td>\n",
       "      <td>1</td>\n",
       "    </tr>\n",
       "  </tbody>\n",
       "</table>\n",
       "</div>"
      ],
      "text/plain": [
       "        easting      northing value\n",
       "0  1.412816e+07  4.184262e+06     1\n",
       "1  1.412804e+07  4.183894e+06     1\n",
       "2  1.412799e+07  4.183657e+06     1\n",
       "3  1.412843e+07  4.184020e+06     1\n",
       "4  1.412808e+07  4.184177e+06     1"
      ]
     },
     "execution_count": 8,
     "metadata": {},
     "output_type": "execute_result"
    }
   ],
   "source": [
    "df = pd.concat(geojsons, ignore_index=True)\n",
    "df.value = df.value.astype('category')\n",
    "df.head()"
   ]
  },
  {
   "cell_type": "markdown",
   "metadata": {},
   "source": [
    "그리고 이제 hdf5로 저장합시다. 나중에 데이터 읽는 것도 빠르고 해서 좋습니다."
   ]
  },
  {
   "cell_type": "code",
   "execution_count": 6,
   "metadata": {
    "collapsed": true
   },
   "outputs": [],
   "source": [
    "from pandas import HDFStore\n",
    "hdf =HDFStore('../processed-data/korea-census-2017.h5')\n",
    "hdf.put('dot_age', df, format='table', data_columns=True)"
   ]
  },
  {
   "cell_type": "markdown",
   "metadata": {},
   "source": [
    "이 모든 과정이 귀찮으신 분들은 그냥 다만들어진 h5를 아래의 주소에서 다운로드받아 processed-data에 저장하시면 됩니다. 크기는 1.6GB입니다.\n",
    "https://umich.box.com/s/utt6gg4goch7zy75jeipat0q7zpo3neg"
   ]
  }
 ],
 "metadata": {
  "anaconda-cloud": {},
  "kernelspec": {
   "display_name": "Python [conda env:yhmain]",
   "language": "python",
   "name": "conda-env-yhmain-py"
  },
  "language_info": {
   "codemirror_mode": {
    "name": "ipython",
    "version": 3
   },
   "file_extension": ".py",
   "mimetype": "text/x-python",
   "name": "python",
   "nbconvert_exporter": "python",
   "pygments_lexer": "ipython3",
   "version": "3.5.2"
  }
 },
 "nbformat": 4,
 "nbformat_minor": 1
}
